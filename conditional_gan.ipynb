{
 "cells": [
  {
   "cell_type": "markdown",
   "metadata": {},
   "source": [
    "### Basic Generative Adversarial Network - Trained on MNIST DATASET"
   ]
  },
  {
   "cell_type": "code",
   "execution_count": 1,
   "metadata": {},
   "outputs": [],
   "source": [
    "import torch\n",
    "from torch import nn\n",
    "import torch.nn.functional as F\n",
    "from tqdm.auto import tqdm\n",
    "from torchvision import transforms\n",
    "from torchvision.utils import make_grid\n",
    "from torchvision.datasets import MNIST\n",
    "from torch.utils.data import DataLoader\n",
    "import matplotlib.pyplot as plt"
   ]
  },
  {
   "cell_type": "code",
   "execution_count": 2,
   "metadata": {},
   "outputs": [
    {
     "data": {
      "image/png": "[encoded data removed]",
      "text/plain": [
       "<Figure size 600x300 with 2 Axes>"
      ]
     },
     "metadata": {},
     "output_type": "display_data"
    }
   ],
   "source": [
    "fig, ax = plt.subplots(1, 2, figsize=(6, 3))\n",
    "fig.suptitle(\"Conditional DCGAN\")\n",
    "def save_images(real_image: torch.tensor, gen_image: torch.tensor, num_images = 25, size=(1, 28, 28), idx: int = -1):\n",
    "    for i in range(2):\n",
    "        ax[i].axis(\"off\")\n",
    "        images = real_image if i == 0 else gen_image\n",
    "        ax[i].set_title(\"True Images\" if i==0 else \"Generated Images\", fontsize=10)\n",
    "        image_unflat = images.detach().cpu().view(-1, *size)\n",
    "        image_grid = make_grid(image_unflat[:num_images], nrow=5)\n",
    "        ax[i].imshow(image_grid.permute(1, 2, 0).squeeze())\n",
    "        fig.savefig(f\"./outputs/output_{idx}.png\", dpi=200)"
   ]
  },
  {
   "cell_type": "code",
   "execution_count": 3,
   "metadata": {},
   "outputs": [],
   "source": [
    "class Generator(nn.Module):\n",
    "    def __init__(self, input_dim=10, im_chan=1, hidden_dim=64):\n",
    "        super(Generator, self).__init__()\n",
    "        self.input_dim = input_dim\n",
    "        # Build the neural network\n",
    "        self.gen = nn.Sequential(\n",
    "            self.make_gen_block(input_dim, hidden_dim * 4),\n",
    "            self.make_gen_block(hidden_dim * 4, hidden_dim * 2, kernel_size=4, stride=1),\n",
    "            self.make_gen_block(hidden_dim * 2, hidden_dim),\n",
    "            self.make_gen_block(hidden_dim, im_chan, kernel_size=4, final_layer=True),\n",
    "        )\n",
    "\n",
    "    def make_gen_block(self, input_channels, output_channels, kernel_size=3, stride=2, final_layer=False):\n",
    "        \n",
    "        if not final_layer:\n",
    "            return nn.Sequential(\n",
    "                nn.ConvTranspose2d(input_channels, output_channels, kernel_size, stride),\n",
    "                nn.BatchNorm2d(output_channels),\n",
    "                nn.ReLU(inplace=True),\n",
    "            )\n",
    "        else:\n",
    "            return nn.Sequential(\n",
    "                nn.ConvTranspose2d(input_channels, output_channels, kernel_size, stride),\n",
    "                nn.Tanh(),\n",
    "            )\n",
    "        \n",
    "    def forward(self, noise):\n",
    "        \n",
    "        x = noise.view(len(noise), self.input_dim, 1, 1)\n",
    "        return self.gen(x)"
   ]
  },
  {
   "cell_type": "code",
   "execution_count": 4,
   "metadata": {},
   "outputs": [],
   "source": [
    "def get_noise(n_samples, z_dim, device='cuda'):\n",
    "    return torch.randn(n_samples, z_dim, device=device)"
   ]
  },
  {
   "cell_type": "code",
   "execution_count": 5,
   "metadata": {},
   "outputs": [],
   "source": [
    "class Discriminator(nn.Module):\n",
    "    def __init__(self, im_chan=1, hidden_dim=64):\n",
    "        super().__init__()\n",
    "        self.disc = nn.Sequential(\n",
    "            self.make_disc_block(im_chan, hidden_dim),\n",
    "            self.make_disc_block(hidden_dim, hidden_dim * 2),\n",
    "            self.make_disc_block(hidden_dim * 2, 1, final_layer=True),\n",
    "        )\n",
    "\n",
    "    def make_disc_block(self, input_channels, output_channels, kernel_size=4, stride=2, final_layer=False):\n",
    "        if not final_layer:\n",
    "            return nn.Sequential(\n",
    "                nn.Conv2d(input_channels, output_channels, kernel_size, stride),\n",
    "                nn.BatchNorm2d(output_channels),\n",
    "                nn.LeakyReLU(0.2, inplace=True),\n",
    "            )\n",
    "        else:\n",
    "            return nn.Sequential(\n",
    "                nn.Conv2d(input_channels, output_channels, kernel_size, stride),\n",
    "            )\n",
    "\n",
    "    def forward(self, image):\n",
    "        disc_pred = self.disc(image)\n",
    "        return disc_pred.view(len(disc_pred), -1)"
   ]
  },
  {
   "cell_type": "code",
   "execution_count": 6,
   "metadata": {},
   "outputs": [],
   "source": [
    "def get_one_hot_labels(labels, n_classes, device=\"cuda\"):\n",
    "    return F.one_hot(labels, n_classes).to(device)\n",
    "\n",
    "def combine_vectors(x, y, device=\"cuda\"):\n",
    "    return torch.cat((x.float(), y.float()), dim=1).to(device)"
   ]
  },
  {
   "cell_type": "code",
   "execution_count": 7,
   "metadata": {},
   "outputs": [],
   "source": [
    "mnist_shape = (1, 28, 28)\n",
    "n_classes = 10\n",
    "criterion = nn.BCEWithLogitsLoss()\n",
    "n_epochs = 300\n",
    "z_dim = 64\n",
    "show_epoch = 1\n",
    "checkpoint_epoch = 25\n",
    "batch_size = 128\n",
    "lr = 0.0002\n",
    "device = \"cuda\"\n",
    "transform = transforms.Compose([\n",
    "    transforms.ToTensor(),\n",
    "    transforms.Normalize((0.5,), (0.5,)),\n",
    "])\n",
    "dataloader = DataLoader(\n",
    "    MNIST('.', download=False, transform=transform),\n",
    "    batch_size=batch_size,\n",
    "    shuffle=True\n",
    "    )"
   ]
  },
  {
   "cell_type": "code",
   "execution_count": 8,
   "metadata": {},
   "outputs": [],
   "source": [
    "def get_input_dimensions(z_dim, mnist_shape, n_classes):\n",
    "    generator_input_dim = z_dim + n_classes\n",
    "    discriminator_input_channels = mnist_shape[0] + n_classes\n",
    "    return generator_input_dim, discriminator_input_channels"
   ]
  },
  {
   "cell_type": "code",
   "execution_count": 9,
   "metadata": {},
   "outputs": [
    {
     "data": {
      "text/plain": [
       "<All keys matched successfully>"
      ]
     },
     "execution_count": 9,
     "metadata": {},
     "output_type": "execute_result"
    }
   ],
   "source": [
    "gen_in_dim, disc_im_chan = get_input_dimensions(z_dim, mnist_shape, n_classes)\n",
    "\n",
    "# INITIALIZING NETWORKS\n",
    "gen = Generator(gen_in_dim).to(device)\n",
    "disc = Discriminator(disc_im_chan).to(device)\n",
    "\n",
    "# OPTIMIZERS\n",
    "gen_opt = torch.optim.Adam(gen.parameters(), lr=lr)\n",
    "disc_opt = torch.optim.Adam(disc.parameters(), lr=lr)\n",
    "\n",
    "\n",
    "\n",
    "def weights_init(m):\n",
    "    if isinstance(m, nn.Conv2d) or isinstance(m, nn.ConvTranspose2d):\n",
    "        torch.nn.init.normal_(m.weight, 0.0, 0.02)\n",
    "    if isinstance(m, nn.BatchNorm2d):\n",
    "        torch.nn.init.normal_(m.weight, 0.0, 0.02)\n",
    "        torch.nn.init.constant_(m.bias, 0)\n",
    "gen = gen.apply(weights_init)\n",
    "disc = disc.apply(weights_init)\n",
    "\n",
    "# LOADING\n",
    "# Uncomment to Load Trained Generator\n",
    "gen.load_state_dict(torch.load(\"./gen_state_300\"))\n",
    "disc.load_state_dict(torch.load(\"./disc_state_300\"))"
   ]
  },
  {
   "cell_type": "code",
   "execution_count": null,
   "metadata": {},
   "outputs": [],
   "source": [
    "for epoch in range(1, n_epochs+1):\n",
    "    for real, labels in tqdm(dataloader):\n",
    "        real = real.to(device)\n",
    "        current_batch_size = len(real)\n",
    "\n",
    "        # Getting one hot information for generator and discriminator\n",
    "        one_hot_labels = get_one_hot_labels(labels.to(device), n_classes)\n",
    "        image_one_hot_labels = one_hot_labels[:, :, None, None]\n",
    "        image_one_hot_labels = image_one_hot_labels.repeat(1, 1, mnist_shape[1], mnist_shape[2])\n",
    "        \n",
    "        # Updating Discriminator\n",
    "        disc_opt.zero_grad(set_to_none=True)\n",
    "        real_image_and_labels = combine_vectors(real, image_one_hot_labels)\n",
    "        disc_real_pred = disc(real_image_and_labels)\n",
    "        \n",
    "        noise = get_noise(current_batch_size, z_dim, device=device)\n",
    "        noise_and_labels = combine_vectors(noise, one_hot_labels)\n",
    "        generated_images = gen(noise_and_labels).detach()\n",
    "        generated_images_and_labels = combine_vectors(generated_images, image_one_hot_labels)\n",
    "        disc_fake_pred = disc(generated_images_and_labels)\n",
    "\n",
    "        # Calculating Discriminator's Loss\n",
    "        disc_real_loss = criterion(disc_real_pred, torch.ones_like(disc_real_pred))\n",
    "        disc_fake_loss = criterion(disc_fake_pred, torch.zeros_like(disc_fake_pred))\n",
    "        disc_loss = (disc_real_loss + disc_fake_loss) / 2\n",
    "        disc_loss.backward(retain_graph=True)\n",
    "        disc_opt.step()\n",
    "\n",
    "        # Updating Generator\n",
    "        gen_opt.zero_grad(set_to_none=True)\n",
    "        noise = get_noise(current_batch_size, z_dim, device=device)\n",
    "        noise_and_labels = combine_vectors(noise, one_hot_labels)\n",
    "        generated_images = gen(noise_and_labels)\n",
    "        fake_images_and_labels = combine_vectors(generated_images, image_one_hot_labels)\n",
    "        disc_pred = disc(fake_images_and_labels)\n",
    "\n",
    "        # Calculating Generator's Loss\n",
    "        gen_loss = criterion(disc_pred, torch.ones_like(disc_pred))\n",
    "        gen_loss.backward()\n",
    "        gen_opt.step()\n",
    "\n",
    "    if epoch % show_epoch == 0:\n",
    "        print(f\"Epoch {epoch}: Generator Loss: {gen_loss:2f} | Discriminator Loss: {disc_loss:2f}\")\n",
    "        save_images(real, generated_images, idx=epoch)\n",
    "    if epoch % checkpoint_epoch == 0:\n",
    "        torch.save(disc.state_dict(), f\"./disc_state_{epoch}\")\n",
    "        torch.save(gen.state_dict(), f\"./gen_state_{epoch}\")"
   ]
  },
  {
   "cell_type": "code",
   "execution_count": null,
   "metadata": {},
   "outputs": [],
   "source": []
  },
  {
   "cell_type": "code",
   "execution_count": null,
   "metadata": {},
   "outputs": [],
   "source": []
  }
 ],
 "metadata": {
  "kernelspec": {
   "display_name": "Python 3",
   "language": "python",
   "name": "python3"
  },
  "language_info": {
   "codemirror_mode": {
    "name": "ipython",
    "version": 3
   },
   "file_extension": ".py",
   "mimetype": "text/x-python",
   "name": "python",
   "nbconvert_exporter": "python",
   "pygments_lexer": "ipython3",
   "version": "3.11.9"
  }
 },
 "nbformat": 4,
 "nbformat_minor": 2
}
